{
 "cells": [
  {
   "cell_type": "code",
   "execution_count": 1,
   "id": "b5bacf7d",
   "metadata": {},
   "outputs": [],
   "source": [
    "import pandas as pd\n",
    "import numpy as np\n",
    "import seaborn as sns\n",
    "from sklearn.feature_extraction.text import CountVectorizer, TfidfVectorizer\n",
    "from sklearn.linear_model import LogisticRegression\n",
    "from sklearn.metrics import classification_report, accuracy_score, f1_score"
   ]
  },
  {
   "cell_type": "code",
   "execution_count": 2,
   "id": "805d29b6",
   "metadata": {},
   "outputs": [
    {
     "data": {
      "text/html": [
       "<div>\n",
       "<style scoped>\n",
       "    .dataframe tbody tr th:only-of-type {\n",
       "        vertical-align: middle;\n",
       "    }\n",
       "\n",
       "    .dataframe tbody tr th {\n",
       "        vertical-align: top;\n",
       "    }\n",
       "\n",
       "    .dataframe thead th {\n",
       "        text-align: right;\n",
       "    }\n",
       "</style>\n",
       "<table border=\"1\" class=\"dataframe\">\n",
       "  <thead>\n",
       "    <tr style=\"text-align: right;\">\n",
       "      <th></th>\n",
       "      <th>Id</th>\n",
       "      <th>Text</th>\n",
       "      <th>Class</th>\n",
       "    </tr>\n",
       "  </thead>\n",
       "  <tbody>\n",
       "    <tr>\n",
       "      <th>0</th>\n",
       "      <td>0</td>\n",
       "      <td>Обустройство тротуаров, мостовых (в том числе ...</td>\n",
       "      <td>H</td>\n",
       "    </tr>\n",
       "    <tr>\n",
       "      <th>1</th>\n",
       "      <td>1</td>\n",
       "      <td>Въ издержкахъ же оныхъ вы имете присылать счет...</td>\n",
       "      <td>H</td>\n",
       "    </tr>\n",
       "    <tr>\n",
       "      <th>2</th>\n",
       "      <td>2</td>\n",
       "      <td>Положи это туда, откуда взял.</td>\n",
       "      <td>H</td>\n",
       "    </tr>\n",
       "    <tr>\n",
       "      <th>3</th>\n",
       "      <td>3</td>\n",
       "      <td>Минстрой обозначил способы снижения энергоемко...</td>\n",
       "      <td>M</td>\n",
       "    </tr>\n",
       "    <tr>\n",
       "      <th>4</th>\n",
       "      <td>4</td>\n",
       "      <td>В конце 1873 года военный суд вынес решение по...</td>\n",
       "      <td>M</td>\n",
       "    </tr>\n",
       "  </tbody>\n",
       "</table>\n",
       "</div>"
      ],
      "text/plain": [
       "   Id                                               Text Class\n",
       "0   0  Обустройство тротуаров, мостовых (в том числе ...     H\n",
       "1   1  Въ издержкахъ же оныхъ вы имете присылать счет...     H\n",
       "2   2                      Положи это туда, откуда взял.     H\n",
       "3   3  Минстрой обозначил способы снижения энергоемко...     M\n",
       "4   4  В конце 1873 года военный суд вынес решение по...     M"
      ]
     },
     "execution_count": 2,
     "metadata": {},
     "output_type": "execute_result"
    }
   ],
   "source": [
    "data = pd.read_csv('data/train.csv')\n",
    "data.head()"
   ]
  },
  {
   "cell_type": "markdown",
   "id": "54102ccb",
   "metadata": {},
   "source": [
    "Данные очень сбалансированы"
   ]
  },
  {
   "cell_type": "code",
   "execution_count": 3,
   "id": "4db17d88",
   "metadata": {},
   "outputs": [
    {
     "data": {
      "text/plain": [
       "Class\n",
       "H    64535\n",
       "M    64531\n",
       "Name: Text, dtype: int64"
      ]
     },
     "execution_count": 3,
     "metadata": {},
     "output_type": "execute_result"
    }
   ],
   "source": [
    "data.groupby('Class').count()['Text']"
   ]
  },
  {
   "cell_type": "markdown",
   "id": "d22e8477",
   "metadata": {},
   "source": [
    "Делим на train и val (тестовый датасет лежит отдельно)"
   ]
  },
  {
   "cell_type": "code",
   "execution_count": 4,
   "id": "da37aa41",
   "metadata": {},
   "outputs": [],
   "source": [
    "np.random.seed(10)\n",
    "train_size = int(0.9 * data.shape[0])\n",
    "all_ind = np.random.permutation(data.shape[0])\n",
    "train_ind = all_ind[:train_size]\n",
    "val_ind = all_ind[train_size:]"
   ]
  },
  {
   "cell_type": "code",
   "execution_count": 5,
   "id": "0eb3c2a5",
   "metadata": {},
   "outputs": [],
   "source": [
    "val = pd.read_csv('data/val.csv')\n",
    "test = pd.read_csv('data/test.csv')"
   ]
  },
  {
   "cell_type": "markdown",
   "id": "084c96d0",
   "metadata": {},
   "source": [
    "Для токенизации текста"
   ]
  },
  {
   "cell_type": "code",
   "execution_count": 6,
   "id": "a3222bc0",
   "metadata": {},
   "outputs": [],
   "source": [
    "from razdel import tokenize\n",
    "def tokenize_text(line):\n",
    "    return [_.text for _ in list(tokenize(line))]"
   ]
  },
  {
   "cell_type": "code",
   "execution_count": 7,
   "id": "079093f5",
   "metadata": {},
   "outputs": [],
   "source": [
    "def write_submission(model, vec, test_file, out_file):\n",
    "    subm = pd.read_csv(test_file)\n",
    "    preds = model.predict(vec.transform(subm['Text']))\n",
    "    subm[\"Class\"] = preds\n",
    "    subm[['Id', 'Class']].to_csv(out_file, index=False)"
   ]
  },
  {
   "cell_type": "markdown",
   "id": "c4c66eb0",
   "metadata": {},
   "source": [
    "##  Logistic Regression"
   ]
  },
  {
   "cell_type": "code",
   "execution_count": 8,
   "id": "ca9218a4",
   "metadata": {},
   "outputs": [],
   "source": [
    "def train_predict(model, train_bow, y_train, test_bow, y_test):\n",
    "    model.fit(train_bow, y_train)\n",
    "    y_pred = model.predict(test_bow)\n",
    "    print(f'Accuracy: {accuracy_score(y_test, y_pred)}')\n",
    "    print(f'F1-score: {f1_score(y_test, y_pred, average=\"macro\")}')"
   ]
  },
  {
   "cell_type": "markdown",
   "id": "1a3b4da3",
   "metadata": {},
   "source": [
    "Обычный Bag of words"
   ]
  },
  {
   "cell_type": "code",
   "execution_count": 9,
   "id": "7685b0a5",
   "metadata": {},
   "outputs": [
    {
     "name": "stdout",
     "output_type": "stream",
     "text": [
      "Accuracy: 0.6602618734020299\n",
      "F1-score: 0.6599854705672352\n"
     ]
    },
    {
     "name": "stderr",
     "output_type": "stream",
     "text": [
      "/home/alena/anaconda3/lib/python3.8/site-packages/sklearn/linear_model/_sag.py:328: ConvergenceWarning: The max_iter was reached which means the coef_ did not converge\n",
      "  warnings.warn(\"The max_iter was reached which means \"\n"
     ]
    }
   ],
   "source": [
    "vec = CountVectorizer(ngram_range=(1, 1), tokenizer=tokenize_text)\n",
    "train_bow = vec.fit_transform(data['Text'][train_ind])\n",
    "test_bow = vec.transform(data['Text'][val_ind])\n",
    "clf = LogisticRegression(random_state=10, solver='saga')\n",
    "\n",
    "train_predict(clf, train_bow,\n",
    "                        data['Class'][train_ind],  \n",
    "                        test_bow,\n",
    "                        data['Class'][val_ind])"
   ]
  },
  {
   "cell_type": "markdown",
   "id": "cbcf6df0",
   "metadata": {},
   "source": [
    "TF-IDF"
   ]
  },
  {
   "cell_type": "code",
   "execution_count": 10,
   "id": "b620d425",
   "metadata": {},
   "outputs": [
    {
     "name": "stdout",
     "output_type": "stream",
     "text": [
      "Accuracy: 0.6886185790656233\n",
      "F1-score: 0.6885144405691219\n"
     ]
    }
   ],
   "source": [
    "vec = TfidfVectorizer(ngram_range=(1, 1), tokenizer=tokenize_text)\n",
    "train_bow = vec.fit_transform(data['Text'][train_ind])\n",
    "test_bow = vec.transform(data['Text'][val_ind])\n",
    "clf = LogisticRegression(random_state=10, solver='saga')\n",
    "\n",
    "train_predict(clf, train_bow,\n",
    "                        data['Class'][train_ind],  \n",
    "                        test_bow,\n",
    "                        data['Class'][val_ind])"
   ]
  },
  {
   "cell_type": "markdown",
   "id": "37c7f0b5",
   "metadata": {},
   "source": [
    "Подберем параметр регуляризации для последнего варианта"
   ]
  },
  {
   "cell_type": "code",
   "execution_count": 11,
   "id": "c9a46c84",
   "metadata": {},
   "outputs": [
    {
     "name": "stdout",
     "output_type": "stream",
     "text": [
      "C=0.0001\n",
      "Accuracy: 0.6099790811187727\n",
      "F1-score: 0.609972991579804\n",
      "\n",
      "C=0.001\n",
      "Accuracy: 0.6144727667157357\n",
      "F1-score: 0.6118895463091297\n",
      "\n",
      "C=0.01\n",
      "Accuracy: 0.6303556209808631\n",
      "F1-score: 0.6288206883219779\n",
      "\n",
      "C=0.1\n",
      "Accuracy: 0.6641357402959635\n",
      "F1-score: 0.6638565116551582\n",
      "\n",
      "C=1\n",
      "Accuracy: 0.6886185790656233\n",
      "F1-score: 0.6885144405691219\n",
      "\n"
     ]
    }
   ],
   "source": [
    "for C in [0.0001, 0.001, 0.01, 0.1, 1]:\n",
    "    clf = LogisticRegression(random_state=10, C=C, solver='saga')\n",
    "    print(f'C={C}')\n",
    "    train_predict(clf, train_bow,\n",
    "                            data['Class'][train_ind],  \n",
    "                            test_bow,\n",
    "                            data['Class'][val_ind])\n",
    "    print()"
   ]
  },
  {
   "cell_type": "markdown",
   "id": "1efe7c48",
   "metadata": {},
   "source": [
    "Выбираем модель Logreg c коэф.регул. C=1, обученную с векторами TF-IDF \n",
    "\n",
    "и проверяем результат на тестовой выборке"
   ]
  },
  {
   "cell_type": "code",
   "execution_count": 12,
   "id": "81a1bd51",
   "metadata": {},
   "outputs": [
    {
     "name": "stdout",
     "output_type": "stream",
     "text": [
      "              precision    recall  f1-score   support\n",
      "\n",
      "           H       0.69      0.71      0.70     10756\n",
      "           M       0.70      0.68      0.69     10755\n",
      "\n",
      "    accuracy                           0.69     21511\n",
      "   macro avg       0.69      0.69      0.69     21511\n",
      "weighted avg       0.69      0.69      0.69     21511\n",
      "\n"
     ]
    }
   ],
   "source": [
    "vec = TfidfVectorizer(ngram_range=(1, 1), tokenizer=tokenize_text)\n",
    "train_bow = vec.fit_transform(data['Text'])\n",
    "\n",
    "val_bow = vec.transform(val['Text'])\n",
    "final_log_reg = LogisticRegression(random_state=10, C=1, solver='saga')\n",
    "final_log_reg.fit(train_bow, data['Class'])\n",
    "val_pred = final_log_reg.predict(val_bow)\n",
    "\n",
    "print(classification_report(val['Class'], val_pred))"
   ]
  },
  {
   "cell_type": "code",
   "execution_count": 14,
   "id": "0eefff9a",
   "metadata": {},
   "outputs": [],
   "source": [
    "write_submission(final_log_reg, vec, 'data/test.csv', 'submissions/log_c1_tfidf.csv')"
   ]
  }
 ],
 "metadata": {
  "kernelspec": {
   "display_name": "Python 3",
   "language": "python",
   "name": "python3"
  },
  "language_info": {
   "codemirror_mode": {
    "name": "ipython",
    "version": 3
   },
   "file_extension": ".py",
   "mimetype": "text/x-python",
   "name": "python",
   "nbconvert_exporter": "python",
   "pygments_lexer": "ipython3",
   "version": "3.8.8"
  }
 },
 "nbformat": 4,
 "nbformat_minor": 5
}
