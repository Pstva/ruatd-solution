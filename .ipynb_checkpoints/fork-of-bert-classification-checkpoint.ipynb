{
 "cells": [
  {
   "cell_type": "code",
   "execution_count": 1,
   "metadata": {
    "execution": {
     "iopub.execute_input": "2022-03-22T18:31:38.937518Z",
     "iopub.status.busy": "2022-03-22T18:31:38.937128Z",
     "iopub.status.idle": "2022-03-22T18:31:47.865036Z",
     "shell.execute_reply": "2022-03-22T18:31:47.864016Z",
     "shell.execute_reply.started": "2022-03-22T18:31:38.937421Z"
    },
    "executionInfo": {
     "elapsed": 9821,
     "status": "ok",
     "timestamp": 1645821766618,
     "user": {
      "displayName": "Алена Пестова",
      "photoUrl": "https://lh3.googleusercontent.com/a/default-user=s64",
      "userId": "17998310572331852810"
     },
     "user_tz": -180
    },
    "id": "r4XSMbu2V8do"
   },
   "outputs": [],
   "source": [
    "!pip install -qq transformers"
   ]
  },
  {
   "cell_type": "code",
   "execution_count": 2,
   "metadata": {
    "execution": {
     "iopub.execute_input": "2022-03-22T18:31:53.448405Z",
     "iopub.status.busy": "2022-03-22T18:31:53.447687Z",
     "iopub.status.idle": "2022-03-22T18:32:00.039182Z",
     "shell.execute_reply": "2022-03-22T18:32:00.038446Z",
     "shell.execute_reply.started": "2022-03-22T18:31:53.448357Z"
    },
    "executionInfo": {
     "elapsed": 5542,
     "status": "ok",
     "timestamp": 1645821772151,
     "user": {
      "displayName": "Алена Пестова",
      "photoUrl": "https://lh3.googleusercontent.com/a/default-user=s64",
      "userId": "17998310572331852810"
     },
     "user_tz": -180
    },
    "id": "762ZRqILV9oB"
   },
   "outputs": [],
   "source": [
    "import transformers\n",
    "from transformers import BertForSequenceClassification\n",
    "from transformers import  BertTokenizer, AdamW, get_linear_schedule_with_warmup\n",
    "import torch\n",
    "import numpy as np\n",
    "import pandas as pd\n",
    "import torch.nn.functional as F\n",
    "\n",
    "import matplotlib.pyplot as plt\n",
    "from sklearn.model_selection import train_test_split\n",
    "from sklearn.metrics import confusion_matrix, classification_report\n",
    "\n",
    "from torch import nn, optim\n",
    "from torch.utils.data import Dataset, DataLoader"
   ]
  },
  {
   "cell_type": "code",
   "execution_count": 3,
   "metadata": {
    "execution": {
     "iopub.execute_input": "2022-03-22T18:32:02.746687Z",
     "iopub.status.busy": "2022-03-22T18:32:02.745912Z",
     "iopub.status.idle": "2022-03-22T18:32:02.750721Z",
     "shell.execute_reply": "2022-03-22T18:32:02.749858Z",
     "shell.execute_reply.started": "2022-03-22T18:32:02.746651Z"
    },
    "executionInfo": {
     "elapsed": 25,
     "status": "ok",
     "timestamp": 1645821774269,
     "user": {
      "displayName": "Алена Пестова",
      "photoUrl": "https://lh3.googleusercontent.com/a/default-user=s64",
      "userId": "17998310572331852810"
     },
     "user_tz": -180
    },
    "id": "IVkUtMsdWblI"
   },
   "outputs": [],
   "source": [
    "PRE_TRAINED_MODEL_NAME = 'bert-base-cased'\n",
    "MAX_LEN = 512"
   ]
  },
  {
   "cell_type": "markdown",
   "metadata": {
    "id": "xzWyJQEEV4ez"
   },
   "source": [
    "## Загрузка и подготовка данных"
   ]
  },
  {
   "cell_type": "code",
   "execution_count": 5,
   "metadata": {
    "execution": {
     "iopub.execute_input": "2022-03-22T18:32:17.006912Z",
     "iopub.status.busy": "2022-03-22T18:32:17.006375Z",
     "iopub.status.idle": "2022-03-22T18:32:18.726304Z",
     "shell.execute_reply": "2022-03-22T18:32:18.725585Z",
     "shell.execute_reply.started": "2022-03-22T18:32:17.006869Z"
    },
    "executionInfo": {
     "elapsed": 1169,
     "status": "ok",
     "timestamp": 1645821775414,
     "user": {
      "displayName": "Алена Пестова",
      "photoUrl": "https://lh3.googleusercontent.com/a/default-user=s64",
      "userId": "17998310572331852810"
     },
     "user_tz": -180
    },
    "id": "SFXAYOeSU-rZ"
   },
   "outputs": [],
   "source": [
    "PATH = '../input/ruatd-data/'\n",
    "\n",
    "label2idx= {'M':1, 'М':1, 'H':0, 'Н':0}\n",
    "data = pd.read_csv(PATH +'train.csv')\n",
    "data['Class'] = data['Class'].replace(label2idx)"
   ]
  },
  {
   "cell_type": "code",
   "execution_count": 6,
   "metadata": {
    "execution": {
     "iopub.execute_input": "2022-03-22T18:32:18.728107Z",
     "iopub.status.busy": "2022-03-22T18:32:18.727871Z",
     "iopub.status.idle": "2022-03-22T18:32:20.271579Z",
     "shell.execute_reply": "2022-03-22T18:32:20.270936Z",
     "shell.execute_reply.started": "2022-03-22T18:32:18.728074Z"
    },
    "executionInfo": {
     "elapsed": 417,
     "status": "ok",
     "timestamp": 1645821775825,
     "user": {
      "displayName": "Алена Пестова",
      "photoUrl": "https://lh3.googleusercontent.com/a/default-user=s64",
      "userId": "17998310572331852810"
     },
     "user_tz": -180
    },
    "id": "cT9NyFjqU-t2"
   },
   "outputs": [],
   "source": [
    "tokenizer = BertTokenizer.from_pretrained(PRE_TRAINED_MODEL_NAME)"
   ]
  },
  {
   "cell_type": "code",
   "execution_count": 4,
   "metadata": {
    "execution": {
     "iopub.execute_input": "2022-03-22T18:32:12.063711Z",
     "iopub.status.busy": "2022-03-22T18:32:12.063143Z",
     "iopub.status.idle": "2022-03-22T18:32:12.072353Z",
     "shell.execute_reply": "2022-03-22T18:32:12.071666Z",
     "shell.execute_reply.started": "2022-03-22T18:32:12.063670Z"
    },
    "executionInfo": {
     "elapsed": 284,
     "status": "ok",
     "timestamp": 1645821776102,
     "user": {
      "displayName": "Алена Пестова",
      "photoUrl": "https://lh3.googleusercontent.com/a/default-user=s64",
      "userId": "17998310572331852810"
     },
     "user_tz": -180
    },
    "id": "fwttBE1qU-wH"
   },
   "outputs": [],
   "source": [
    "class TextDataset(Dataset):\n",
    "\n",
    "  def __init__(self, texts, targets, tokenizer, max_len):\n",
    "    self.texts = texts\n",
    "    self.targets = targets\n",
    "    self.tokenizer = tokenizer\n",
    "    self.max_len = max_len\n",
    "  \n",
    "  def __len__(self):\n",
    "    return len(self.texts)\n",
    "  \n",
    "  def __getitem__(self, item):\n",
    "    text = str(self.texts[item])\n",
    "    #H=0, M=1\n",
    "    target = self.targets[item]\n",
    "\n",
    "    encoding = self.tokenizer.encode_plus(\n",
    "      text,\n",
    "      add_special_tokens=True,\n",
    "      max_length=self.max_len,\n",
    "      return_token_type_ids=False,\n",
    "      padding='max_length',\n",
    "      truncation=True,\n",
    "      return_attention_mask=True,\n",
    "      return_tensors='pt',\n",
    "    )\n",
    "\n",
    "    return {\n",
    "      'text': text,\n",
    "      'input_ids': encoding['input_ids'].flatten(),\n",
    "      'segment_ids' : torch.tensor([0] * self.max_len, dtype=torch.long),\n",
    "      'attention_mask': encoding['attention_mask'].flatten(),\n",
    "      'targets': torch.tensor(target, dtype=torch.long)\n",
    "    }"
   ]
  },
  {
   "cell_type": "code",
   "execution_count": 7,
   "metadata": {
    "execution": {
     "iopub.execute_input": "2022-03-22T18:32:28.612523Z",
     "iopub.status.busy": "2022-03-22T18:32:28.612246Z",
     "iopub.status.idle": "2022-03-22T18:32:28.722476Z",
     "shell.execute_reply": "2022-03-22T18:32:28.721758Z",
     "shell.execute_reply.started": "2022-03-22T18:32:28.612488Z"
    },
    "executionInfo": {
     "elapsed": 13,
     "status": "ok",
     "timestamp": 1645821776102,
     "user": {
      "displayName": "Алена Пестова",
      "photoUrl": "https://lh3.googleusercontent.com/a/default-user=s64",
      "userId": "17998310572331852810"
     },
     "user_tz": -180
    },
    "id": "BgDRcYhuYUa2"
   },
   "outputs": [],
   "source": [
    "RANDOM_SEED = 42\n",
    "np.random.seed(RANDOM_SEED)\n",
    "torch.manual_seed(RANDOM_SEED)\n",
    "device = torch.device(\"cuda:0\" if torch.cuda.is_available() else \"cpu\")\n",
    "\n",
    "df_train, df_val = train_test_split(data, test_size=0.1, random_state=RANDOM_SEED, stratify=data['Class'])"
   ]
  },
  {
   "cell_type": "code",
   "execution_count": 8,
   "metadata": {
    "execution": {
     "iopub.execute_input": "2022-03-22T18:32:29.717022Z",
     "iopub.status.busy": "2022-03-22T18:32:29.716281Z",
     "iopub.status.idle": "2022-03-22T18:32:29.723060Z",
     "shell.execute_reply": "2022-03-22T18:32:29.722381Z",
     "shell.execute_reply.started": "2022-03-22T18:32:29.716984Z"
    },
    "executionInfo": {
     "elapsed": 13,
     "status": "ok",
     "timestamp": 1645821776103,
     "user": {
      "displayName": "Алена Пестова",
      "photoUrl": "https://lh3.googleusercontent.com/a/default-user=s64",
      "userId": "17998310572331852810"
     },
     "user_tz": -180
    },
    "id": "U0O1aicZYUd3"
   },
   "outputs": [],
   "source": [
    "def create_data_loader(df, tokenizer, max_len, batch_size):\n",
    "  ds = TextDataset(\n",
    "    texts=df.Text.to_numpy(),\n",
    "    targets=df.Class.to_numpy(),\n",
    "    tokenizer=tokenizer,\n",
    "    max_len=max_len\n",
    "  )\n",
    "\n",
    "  return DataLoader(\n",
    "    ds,\n",
    "    batch_size=batch_size,\n",
    "    num_workers=2\n",
    "  )"
   ]
  },
  {
   "cell_type": "code",
   "execution_count": 9,
   "metadata": {
    "execution": {
     "iopub.execute_input": "2022-03-22T18:32:31.095621Z",
     "iopub.status.busy": "2022-03-22T18:32:31.095013Z",
     "iopub.status.idle": "2022-03-22T18:32:31.101106Z",
     "shell.execute_reply": "2022-03-22T18:32:31.100356Z",
     "shell.execute_reply.started": "2022-03-22T18:32:31.095582Z"
    },
    "executionInfo": {
     "elapsed": 13,
     "status": "ok",
     "timestamp": 1645821776104,
     "user": {
      "displayName": "Алена Пестова",
      "photoUrl": "https://lh3.googleusercontent.com/a/default-user=s64",
      "userId": "17998310572331852810"
     },
     "user_tz": -180
    },
    "id": "chW3QMOgYwWL"
   },
   "outputs": [],
   "source": [
    "BATCH_SIZE = 12\n",
    "\n",
    "train_data_loader = create_data_loader(df_train, tokenizer, MAX_LEN, BATCH_SIZE)\n",
    "val_data_loader = create_data_loader(df_val, tokenizer, MAX_LEN, BATCH_SIZE)"
   ]
  },
  {
   "cell_type": "markdown",
   "metadata": {},
   "source": [
    "### Функции для обуения и оценки модели"
   ]
  },
  {
   "cell_type": "code",
   "execution_count": 10,
   "metadata": {
    "execution": {
     "iopub.execute_input": "2022-03-22T18:32:32.732724Z",
     "iopub.status.busy": "2022-03-22T18:32:32.731870Z",
     "iopub.status.idle": "2022-03-22T18:32:32.743164Z",
     "shell.execute_reply": "2022-03-22T18:32:32.742307Z",
     "shell.execute_reply.started": "2022-03-22T18:32:32.732679Z"
    }
   },
   "outputs": [],
   "source": [
    "def evaluate(model, dataloader, device=\"cpu\"):\n",
    "    model.eval()\n",
    "    \n",
    "    eval_loss = 0\n",
    "    nb_eval_steps = 0\n",
    "    predicted_labels, correct_labels = [], []\n",
    "\n",
    "    model.to(device)\n",
    "    for step, batch in enumerate(tqdm(dataloader, desc=\"Evaluation iteration\")):\n",
    "        input_ids = batch[\"input_ids\"].to(device)\n",
    "        attention_mask = batch[\"attention_mask\"].to(device)\n",
    "        label_ids = batch[\"targets\"].to(device)\n",
    "        segment_ids = batch['segment_ids'].to(device)\n",
    "\n",
    "        with torch.no_grad():\n",
    "            output = model(input_ids, attention_mask=attention_mask,\n",
    "                               labels=label_ids, token_type_ids=segment_ids)\n",
    "        tmp_eval_loss, logits = output[0], output[1]\n",
    "\n",
    "        outputs = np.argmax(logits.to('cpu'), axis=1)\n",
    "        label_ids = label_ids.to('cpu').numpy()\n",
    "        \n",
    "        predicted_labels += list(outputs)\n",
    "        correct_labels += list(label_ids)\n",
    "        \n",
    "        eval_loss += tmp_eval_loss.mean().item()\n",
    "        nb_eval_steps += 1\n",
    "\n",
    "    eval_loss = eval_loss / nb_eval_steps\n",
    "    \n",
    "    correct_labels = np.array(correct_labels)\n",
    "    predicted_labels = np.array(predicted_labels)\n",
    "        \n",
    "    return eval_loss, correct_labels, predicted_labels"
   ]
  },
  {
   "cell_type": "code",
   "execution_count": 11,
   "metadata": {
    "execution": {
     "iopub.execute_input": "2022-03-22T18:32:34.496147Z",
     "iopub.status.busy": "2022-03-22T18:32:34.495616Z",
     "iopub.status.idle": "2022-03-22T18:32:34.500543Z",
     "shell.execute_reply": "2022-03-22T18:32:34.499514Z",
     "shell.execute_reply.started": "2022-03-22T18:32:34.496111Z"
    }
   },
   "outputs": [],
   "source": [
    "import os\n",
    "from tqdm import trange\n",
    "from tqdm.notebook import tqdm\n",
    "from sklearn.metrics import classification_report, precision_recall_fscore_support, accuracy_score, f1_score"
   ]
  },
  {
   "cell_type": "code",
   "execution_count": 12,
   "metadata": {
    "execution": {
     "iopub.execute_input": "2022-03-22T18:32:36.217444Z",
     "iopub.status.busy": "2022-03-22T18:32:36.217051Z",
     "iopub.status.idle": "2022-03-22T18:32:36.236316Z",
     "shell.execute_reply": "2022-03-22T18:32:36.235308Z",
     "shell.execute_reply.started": "2022-03-22T18:32:36.217409Z"
    }
   },
   "outputs": [],
   "source": [
    "def train(model, train_dataloader, dev_dataloader, output_model_file= \"./bert.bin\",\n",
    "          num_train_epochs=10, patience=2, gradient_accumulation_steps=1, max_grad_norm=5,\n",
    "          warmup_proportion=0.1, batch_size=8, learning_rate=5e-5): \n",
    "    \n",
    "    num_train_steps = int(len(df_train) / batch_size / gradient_accumulation_steps * num_train_epochs)\n",
    "    num_warmup_steps = int(warmup_proportion * num_train_steps)\n",
    "\n",
    "    param_optimizer = list(model.named_parameters())\n",
    "    no_decay = ['bias', 'LayerNorm.bias', 'LayerNorm.weight']\n",
    "    optimizer_grouped_parameters = [\n",
    "        {'params': [p for n, p in param_optimizer if not any(nd in n for nd in no_decay)], 'weight_decay': 0.01},\n",
    "        {'params': [p for n, p in param_optimizer if any(nd in n for nd in no_decay)], 'weight_decay': 0.0}\n",
    "        ]\n",
    "\n",
    "    optimizer = AdamW(optimizer_grouped_parameters, lr=learning_rate, correct_bias=False)\n",
    "    scheduler = get_linear_schedule_with_warmup(optimizer, num_warmup_steps=num_warmup_steps, \n",
    "                                                num_training_steps=num_train_steps)\n",
    "    \n",
    "    train_losses, dev_losses = [],[]\n",
    "    \n",
    "    train_accuracies, train_f1_scores, dev_accuracies, dev_f1_scores = [], [], [], []\n",
    "    no_improvement = 0\n",
    "    for _ in trange(int(num_train_epochs), desc=\"Epoch\"):\n",
    "        train_predictions = []\n",
    "        train_labels = []\n",
    "        model.train()\n",
    "        tr_loss = 0\n",
    "        nb_tr_examples, nb_tr_steps = 0, 0\n",
    "        for step, batch in enumerate(tqdm(train_dataloader, desc=\"Training iteration\")):\n",
    "            input_ids = batch[\"input_ids\"].to(device)\n",
    "            attention_mask = batch[\"attention_mask\"].to(device)\n",
    "            label_ids = batch[\"targets\"].to(device)\n",
    "            segment_ids = batch['segment_ids'].to(device)\n",
    "\n",
    "            outputs = model(input_ids, attention_mask=attention_mask, labels=label_ids,\n",
    "                           token_type_ids=segment_ids)\n",
    "            loss = outputs[0]\n",
    "            logits = outputs[1]\n",
    "            train_predictions += list(np.argmax(logits.detach().to('cpu'), axis=1))\n",
    "            train_labels += list(batch[\"targets\"].to('cpu').numpy())\n",
    "\n",
    "            if gradient_accumulation_steps > 1:\n",
    "                loss = loss / gradient_accumulation_steps\n",
    "\n",
    "            loss.backward()\n",
    "            tr_loss += loss.mean().item()\n",
    "\n",
    "            if (step + 1) % gradient_accumulation_steps == 0:\n",
    "                torch.nn.utils.clip_grad_norm_(model.parameters(), max_grad_norm) \n",
    "                optimizer.step()\n",
    "                optimizer.zero_grad() \n",
    "                scheduler.step()\n",
    "                \n",
    "            nb_tr_steps += 1\n",
    "                \n",
    "        tr_loss /= nb_tr_steps\n",
    "        train_accuracies.append(accuracy_score(train_labels, train_predictions))\n",
    "        train_f1_scores.append(f1_score(train_labels, train_predictions, average='macro'))\n",
    "        \n",
    "        dev_loss, correct_labels, predicted_labels = evaluate(model, dev_dataloader, device=\"cuda\")\n",
    "        dev_accuracies.append(accuracy_score(correct_labels, predicted_labels))\n",
    "        dev_f1_scores.append(f1_score(correct_labels, predicted_labels, average='macro'))\n",
    "        \n",
    "        print(\"Train loss:\", tr_loss, 'Train acc: ', train_accuracies[-1], \"Train_f1: \", train_f1_scores[-1])\n",
    "        print(\"Dev loss:\", dev_loss, 'Dev acc: ', dev_accuracies[-1], \"Dev_f1: \", dev_f1_scores[-1])\n",
    "\n",
    "        if len(dev_losses) == 0 or dev_accuracies[-1] > min(dev_accuracies):\n",
    "            no_improvement = 0\n",
    "            model_to_save = model.module if hasattr(model, 'module') else model\n",
    "            torch.save(model_to_save.state_dict(), output_model_file)\n",
    "        else:\n",
    "            no_improvement += 1\n",
    "        \n",
    "        if no_improvement >= patience:\n",
    "            print(\"No improvement on development set. Finish training.\")\n",
    "            break\n",
    "\n",
    "        dev_losses.append(dev_loss)\n",
    "        train_losses.append(tr_loss)\n",
    "        \n",
    "    return train_losses, dev_losses, train_accuracies, train_f1_scores, dev_accuracies, dev_f1_scores"
   ]
  },
  {
   "cell_type": "code",
   "execution_count": null,
   "metadata": {
    "execution": {
     "iopub.execute_input": "2022-03-01T16:07:12.018543Z",
     "iopub.status.busy": "2022-03-01T16:07:12.017832Z",
     "iopub.status.idle": "2022-03-01T16:07:17.112352Z",
     "shell.execute_reply": "2022-03-01T16:07:17.111589Z",
     "shell.execute_reply.started": "2022-03-01T16:07:12.018494Z"
    }
   },
   "outputs": [],
   "source": [
    "idx2label = {1:'M', 0:'H'}\n",
    "device = torch.device(\"cuda\" if torch.cuda.is_available() else \"cpu\")\n",
    "model = BertForSequenceClassification.from_pretrained(PRE_TRAINED_MODEL_NAME, num_labels = len(idx2label))\n",
    "model.to(device)"
   ]
  },
  {
   "cell_type": "markdown",
   "metadata": {},
   "source": [
    "### Обучение "
   ]
  },
  {
   "cell_type": "code",
   "execution_count": null,
   "metadata": {
    "execution": {
     "iopub.execute_input": "2022-03-01T16:07:22.579348Z",
     "iopub.status.busy": "2022-03-01T16:07:22.579076Z",
     "iopub.status.idle": "2022-03-01T16:15:29.587459Z",
     "shell.execute_reply": "2022-03-01T16:15:29.586456Z",
     "shell.execute_reply.started": "2022-03-01T16:07:22.579317Z"
    }
   },
   "outputs": [],
   "source": [
    "OUTPUT_FILE=PATH + \"./bert512.bin\",\n",
    "EPOCHS=10\n",
    "\n",
    "train_losses, dev_losses,  train_accuracies, train_f1_scores, dev_accuracies, dev_f1_scores = train(model, \n",
    "                                                                                       train_data_loader, val_data_loader, \n",
    "                                                                                       gradient_accumulation_steps=4, batch_size=BATCH_SIZE)"
   ]
  },
  {
   "cell_type": "markdown",
   "metadata": {},
   "source": [
    "### Результаты на val датасете"
   ]
  },
  {
   "cell_type": "code",
   "execution_count": 13,
   "metadata": {
    "collapsed": true,
    "execution": {
     "iopub.execute_input": "2022-03-22T18:33:02.464125Z",
     "iopub.status.busy": "2022-03-22T18:33:02.463753Z",
     "iopub.status.idle": "2022-03-22T18:33:22.576439Z",
     "shell.execute_reply": "2022-03-22T18:33:22.575518Z",
     "shell.execute_reply.started": "2022-03-22T18:33:02.464080Z"
    },
    "jupyter": {
     "outputs_hidden": true
    }
   },
   "outputs": [],
   "source": [
    "idx2label = {1:'M', 0:'H'}\n",
    "\n",
    "device = torch.device(\"cuda\" if torch.cuda.is_available() else \"cpu\")\n",
    "model = BertForSequenceClassification.from_pretrained(PRE_TRAINED_MODEL_NAME, num_labels = len(idx2label))\n",
    "model.load_state_dict(torch.load('../input/bert-5/bert.bin'))\n",
    "model.to(device)"
   ]
  },
  {
   "cell_type": "code",
   "execution_count": 14,
   "metadata": {
    "execution": {
     "iopub.execute_input": "2022-03-22T18:33:28.742989Z",
     "iopub.status.busy": "2022-03-22T18:33:28.742391Z",
     "iopub.status.idle": "2022-03-22T18:40:17.287584Z",
     "shell.execute_reply": "2022-03-22T18:40:17.286243Z",
     "shell.execute_reply.started": "2022-03-22T18:33:28.742952Z"
    }
   },
   "outputs": [],
   "source": [
    "PATH = '../input/ruatd-data/'\n",
    "\n",
    "label2idx= {'M':1, 'М':1, 'H':0, 'Н':0}\n",
    "data = pd.read_csv(PATH +'val.csv')\n",
    "data['Class'] = data['Class'].replace(label2idx)\n",
    "BATCH_SIZE=12\n",
    "\n",
    "test_data_loader = create_data_loader(data, tokenizer, MAX_LEN, BATCH_SIZE)\n",
    "eval_loss, correct_labels, predicted_labels = evaluate(model, test_data_loader, device='cuda')\n",
    "print(classification_report(correct_labels, predicted_labels))"
   ]
  },
  {
   "cell_type": "markdown",
   "metadata": {},
   "source": [
    "### Submission"
   ]
  },
  {
   "cell_type": "code",
   "execution_count": 15,
   "metadata": {
    "execution": {
     "iopub.execute_input": "2022-03-22T18:40:17.289782Z",
     "iopub.status.busy": "2022-03-22T18:40:17.289500Z",
     "iopub.status.idle": "2022-03-22T18:40:17.297847Z",
     "shell.execute_reply": "2022-03-22T18:40:17.297119Z",
     "shell.execute_reply.started": "2022-03-22T18:40:17.289744Z"
    }
   },
   "outputs": [],
   "source": [
    "def make_proba_predictions(model, dataloader, device=\"cpu\"):\n",
    "    model.eval()\n",
    "    \n",
    "    predicted_proba, predicted_labels = [], []\n",
    "\n",
    "    model.to(device)\n",
    "    for step, batch in enumerate(tqdm(dataloader, desc=\"Evaluation iteration\")):\n",
    "        input_ids = batch[\"input_ids\"].to(device)\n",
    "        attention_mask = batch[\"attention_mask\"].to(device)\n",
    "        segment_ids = batch['segment_ids'].to(device)\n",
    "        label_ids = batch[\"targets\"].to(device)\n",
    "        with torch.no_grad():\n",
    "            output = model(input_ids, attention_mask=attention_mask,\n",
    "                               labels=label_ids, token_type_ids=segment_ids)\n",
    "        logits = output[1]\n",
    "\n",
    "        outputs = np.argmax(logits.to('cpu'), axis=1)\n",
    "        predicted_labels += list(outputs)\n",
    "        predicted_proba += list(logits.to('cpu').numpy())\n",
    "        \n",
    "\n",
    "    predicted_labels = np.array(predicted_labels)\n",
    "        \n",
    "    return predicted_proba, predicted_labels"
   ]
  },
  {
   "cell_type": "code",
   "execution_count": 16,
   "metadata": {
    "execution": {
     "iopub.execute_input": "2022-03-22T18:40:17.300009Z",
     "iopub.status.busy": "2022-03-22T18:40:17.299367Z",
     "iopub.status.idle": "2022-03-22T19:00:40.032293Z",
     "shell.execute_reply": "2022-03-22T19:00:40.031519Z",
     "shell.execute_reply.started": "2022-03-22T18:40:17.299973Z"
    }
   },
   "outputs": [],
   "source": [
    "subm = pd.read_csv(PATH +'test.csv')\n",
    "subm['Class'] = 0\n",
    "sumb_data_loader = create_data_loader(subm, tokenizer, MAX_LEN, BATCH_SIZE)\n",
    "_, predicted_labels = make_proba_predictions(model, sumb_data_loader, device='cuda')\n",
    "\n",
    "subm['Class'] = predicted_labels\n",
    "subm['Class'] = subm['Class'].replace(idx2label)\n",
    "subm[['Id', 'Class']].to_csv('./submission_bert_5_512.csv', index=False)"
   ]
  }
 ],
 "metadata": {
  "kernelspec": {
   "display_name": "Python 3",
   "language": "python",
   "name": "python3"
  },
  "language_info": {
   "codemirror_mode": {
    "name": "ipython",
    "version": 3
   },
   "file_extension": ".py",
   "mimetype": "text/x-python",
   "name": "python",
   "nbconvert_exporter": "python",
   "pygments_lexer": "ipython3",
   "version": "3.8.8"
  }
 },
 "nbformat": 4,
 "nbformat_minor": 4
}
